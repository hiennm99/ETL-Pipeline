{
 "cells": [
  {
   "cell_type": "code",
   "execution_count": 3,
   "metadata": {},
   "outputs": [],
   "source": [
    "import pandas as pd\n",
    "from configparser import ConfigParser\n",
    "from sqlalchemy import create_engine\n",
    "from datetime import datetime"
   ]
  },
  {
   "cell_type": "code",
   "execution_count": 4,
   "metadata": {},
   "outputs": [
    {
     "data": {
      "text/plain": [
       "'2023-05-23'"
      ]
     },
     "execution_count": 4,
     "metadata": {},
     "output_type": "execute_result"
    }
   ],
   "source": [
    "config=ConfigParser()\n",
    "config.read('config.ini')\n",
    "runTime=datetime.now().strftime(\"%Y-%m-%d\")\n",
    "runTime"
   ]
  },
  {
   "cell_type": "code",
   "execution_count": 5,
   "metadata": {},
   "outputs": [],
   "source": [
    "db_host=config['DB']['hostname']\n",
    "db_user=config['DB']['user']\n",
    "db_pwd=config['DB']['password']\n",
    "db_driver=config['DB']['driver']\n",
    "db_database=config['DB']['database']\n",
    "\n",
    "db_url=f'{db_driver}://{db_user}:{db_pwd}@{db_host}/{db_database}?driver=ODBC+Driver+17+for+SQL+Server'\n",
    "db_engine=create_engine(db_url)"
   ]
  },
  {
   "cell_type": "code",
   "execution_count": 6,
   "metadata": {},
   "outputs": [],
   "source": [
    "dwh_host=config['DWH']['hostname']\n",
    "dwh_port=config['DWH']['port']\n",
    "dwh_user=config['DWH']['user']\n",
    "dwh_pwd=config['DWH']['password']\n",
    "dwh_driver=config['DWH']['driver']\n",
    "dwh_database=config['DWH']['database']\n",
    "\n",
    "dwh_url=f'{dwh_driver}://{dwh_user}:{dwh_pwd}@{dwh_host}:{dwh_port}/{dwh_database}'\n",
    "dwh_engine=create_engine(dwh_url)"
   ]
  },
  {
   "cell_type": "code",
   "execution_count": 7,
   "metadata": {},
   "outputs": [
    {
     "name": "stdout",
     "output_type": "stream",
     "text": [
      "Extract data from database successfully !!!\n"
     ]
    }
   ],
   "source": [
    "# Extract data \n",
    "# Get the last_update record in datawarehouse\n",
    "try:\n",
    "    query1=f\"\"\"SELECT MAX(updated_at) as last_update FROM public.d_updatelogs WHERE tbl_name='f_orders'\"\"\"\n",
    "    dwh_data=pd.read_sql_query(query1,con=dwh_engine)\n",
    "    \n",
    "except Exception as e:\n",
    "    print(e)\n",
    "\n",
    "if not dwh_data.empty:\n",
    "    last_update_dwh=dwh_data['last_update'][0].strftime(\"%Y-%m-%d %H:%M:%S\")\n",
    "    # Get all records which have updated_at > last_update\n",
    "    try:\n",
    "        query2=f\"\"\"SELECT * FROM sales.orders WHERE updated_at <='{last_update_dwh}'\"\"\"\n",
    "        df=pd.read_sql_query(query2,con=db_engine)\n",
    "    except Exception as e:\n",
    "        print(e)\n",
    "else:\n",
    "    last_update_dwh=datetime.now().strftime(\"%Y-%m-%d %H:%M:%S\")\n",
    "        \n",
    "print(\"Extract data from database successfully !!!\")\n",
    "rawData=f'raw_{runTime}.parquet'\n",
    "df.to_parquet(rawData)"
   ]
  },
  {
   "cell_type": "code",
   "execution_count": 8,
   "metadata": {},
   "outputs": [],
   "source": [
    "def remove_duplicates(dataframe,columns):\n",
    "    dataframe=dataframe.sort_values(columns,ascending=False)\n",
    "    dataframe=dataframe.drop_duplicates(subset=columns,keep='first')\n",
    "    return dataframe\n",
    "\n",
    "def handle_missing_values(dataframe,fill_values):\n",
    "    return dataframe.fillna(fill_values)\n",
    "\n",
    "def define_record_type(extracted_data):\n",
    "\n",
    "    # Get all records existing in datawarehouse\n",
    "    existing_data = pd.read_sql(f\"\"\"SELECT * FROM f_orders\"\"\", con=dwh_engine)\n",
    "    \n",
    "    # So sánh dữ liệu mới với dữ liệu đã tồn tại\n",
    "    existing_records = pd.merge(existing_data, extracted_data, on='id', how='inner')\n",
    "    new_records = extracted_data[~extracted_data['id'].isin(existing_data['id'])]\n",
    "    old_records = extracted_data[extracted_data['id'].isin(existing_data['id'])]\n",
    "    return new_records,old_records"
   ]
  },
  {
   "cell_type": "code",
   "execution_count": 9,
   "metadata": {},
   "outputs": [
    {
     "name": "stdout",
     "output_type": "stream",
     "text": [
      "Transform data successfully !!!\n"
     ]
    }
   ],
   "source": [
    "rawFilename=f'raw_{runTime}.parquet'\n",
    "raw_data=pd.read_parquet(rawFilename)\n",
    "\n",
    "## Drop column 'id'\n",
    "raw_data=raw_data.drop(columns=['no'])\n",
    "\n",
    "## Drop duplicate values\n",
    "# Remove duplicates\n",
    "transformed_data =remove_duplicates(dataframe=raw_data,columns='id')\n",
    "\n",
    "# Handle missing values\n",
    "transformed_data=handle_missing_values(dataframe=transformed_data,fill_values='N/A')\n",
    "\n",
    "print(\"Transform data successfully !!!\")\n",
    "transformed_data.to_parquet(f'transformed_{runTime}.parquet')"
   ]
  },
  {
   "cell_type": "code",
   "execution_count": 10,
   "metadata": {},
   "outputs": [
    {
     "data": {
      "text/html": [
       "<div>\n",
       "<style scoped>\n",
       "    .dataframe tbody tr th:only-of-type {\n",
       "        vertical-align: middle;\n",
       "    }\n",
       "\n",
       "    .dataframe tbody tr th {\n",
       "        vertical-align: top;\n",
       "    }\n",
       "\n",
       "    .dataframe thead th {\n",
       "        text-align: right;\n",
       "    }\n",
       "</style>\n",
       "<table border=\"1\" class=\"dataframe\">\n",
       "  <thead>\n",
       "    <tr style=\"text-align: right;\">\n",
       "      <th></th>\n",
       "      <th>id</th>\n",
       "      <th>store</th>\n",
       "      <th>employee</th>\n",
       "      <th>customer</th>\n",
       "      <th>subtotal</th>\n",
       "      <th>tax</th>\n",
       "      <th>discount</th>\n",
       "      <th>total_payment</th>\n",
       "      <th>payment_method</th>\n",
       "      <th>shipping_method</th>\n",
       "      <th>status</th>\n",
       "      <th>created_at</th>\n",
       "      <th>updated_at</th>\n",
       "    </tr>\n",
       "  </thead>\n",
       "  <tbody>\n",
       "    <tr>\n",
       "      <th>2</th>\n",
       "      <td>003</td>\n",
       "      <td>WH0012</td>\n",
       "      <td>MR2558</td>\n",
       "      <td>N/A</td>\n",
       "      <td>100000</td>\n",
       "      <td>0</td>\n",
       "      <td>0</td>\n",
       "      <td>0</td>\n",
       "      <td>1</td>\n",
       "      <td>1</td>\n",
       "      <td>0</td>\n",
       "      <td>2023-05-23 15:01:00.000</td>\n",
       "      <td>2023-05-23 15:01:00.000</td>\n",
       "    </tr>\n",
       "    <tr>\n",
       "      <th>1</th>\n",
       "      <td>002</td>\n",
       "      <td>WH0010</td>\n",
       "      <td>MR2558</td>\n",
       "      <td>N/A</td>\n",
       "      <td>1116000</td>\n",
       "      <td>0</td>\n",
       "      <td>0</td>\n",
       "      <td>0</td>\n",
       "      <td>1</td>\n",
       "      <td>1</td>\n",
       "      <td>0</td>\n",
       "      <td>2023-05-11 14:19:42.437</td>\n",
       "      <td>2023-05-11 14:32:46.137</td>\n",
       "    </tr>\n",
       "    <tr>\n",
       "      <th>0</th>\n",
       "      <td>001</td>\n",
       "      <td>WH0010</td>\n",
       "      <td>MR2558</td>\n",
       "      <td>N/A</td>\n",
       "      <td>2616000</td>\n",
       "      <td>0</td>\n",
       "      <td>0</td>\n",
       "      <td>0</td>\n",
       "      <td>1</td>\n",
       "      <td>1</td>\n",
       "      <td>0</td>\n",
       "      <td>2023-05-10 15:33:29.287</td>\n",
       "      <td>2023-05-11 14:23:13.403</td>\n",
       "    </tr>\n",
       "  </tbody>\n",
       "</table>\n",
       "</div>"
      ],
      "text/plain": [
       "    id   store employee customer  subtotal  tax  discount  total_payment   \n",
       "2  003  WH0012   MR2558      N/A    100000    0         0              0  \\\n",
       "1  002  WH0010   MR2558      N/A   1116000    0         0              0   \n",
       "0  001  WH0010   MR2558      N/A   2616000    0         0              0   \n",
       "\n",
       "   payment_method  shipping_method  status              created_at   \n",
       "2               1                1       0 2023-05-23 15:01:00.000  \\\n",
       "1               1                1       0 2023-05-11 14:19:42.437   \n",
       "0               1                1       0 2023-05-10 15:33:29.287   \n",
       "\n",
       "               updated_at  \n",
       "2 2023-05-23 15:01:00.000  \n",
       "1 2023-05-11 14:32:46.137  \n",
       "0 2023-05-11 14:23:13.403  "
      ]
     },
     "execution_count": 10,
     "metadata": {},
     "output_type": "execute_result"
    }
   ],
   "source": [
    "transformed_data"
   ]
  },
  {
   "cell_type": "code",
   "execution_count": 69,
   "metadata": {},
   "outputs": [
    {
     "data": {
      "text/plain": [
       "3"
      ]
     },
     "execution_count": 69,
     "metadata": {},
     "output_type": "execute_result"
    }
   ],
   "source": [
    "transformed_count=transformed_data.shape[0]\n",
    "transformed_count"
   ]
  },
  {
   "cell_type": "code",
   "execution_count": 11,
   "metadata": {},
   "outputs": [],
   "source": [
    "new_records,old_records=define_record_type(transformed_data)"
   ]
  },
  {
   "cell_type": "code",
   "execution_count": 12,
   "metadata": {},
   "outputs": [
    {
     "data": {
      "text/plain": [
       "(2, 1)"
      ]
     },
     "execution_count": 12,
     "metadata": {},
     "output_type": "execute_result"
    }
   ],
   "source": [
    "new_count=new_records.shape[0]\n",
    "old_count=old_records.shape[0]\n",
    "new_count,old_count"
   ]
  },
  {
   "cell_type": "code",
   "execution_count": 13,
   "metadata": {},
   "outputs": [
    {
     "data": {
      "text/html": [
       "<div>\n",
       "<style scoped>\n",
       "    .dataframe tbody tr th:only-of-type {\n",
       "        vertical-align: middle;\n",
       "    }\n",
       "\n",
       "    .dataframe tbody tr th {\n",
       "        vertical-align: top;\n",
       "    }\n",
       "\n",
       "    .dataframe thead th {\n",
       "        text-align: right;\n",
       "    }\n",
       "</style>\n",
       "<table border=\"1\" class=\"dataframe\">\n",
       "  <thead>\n",
       "    <tr style=\"text-align: right;\">\n",
       "      <th></th>\n",
       "      <th>id</th>\n",
       "      <th>store</th>\n",
       "      <th>employee</th>\n",
       "      <th>customer</th>\n",
       "      <th>subtotal</th>\n",
       "      <th>tax</th>\n",
       "      <th>discount</th>\n",
       "      <th>total_payment</th>\n",
       "      <th>payment_method</th>\n",
       "      <th>shipping_method</th>\n",
       "      <th>status</th>\n",
       "      <th>created_at</th>\n",
       "      <th>updated_at</th>\n",
       "    </tr>\n",
       "  </thead>\n",
       "  <tbody>\n",
       "    <tr>\n",
       "      <th>2</th>\n",
       "      <td>003</td>\n",
       "      <td>WH0012</td>\n",
       "      <td>MR2558</td>\n",
       "      <td>N/A</td>\n",
       "      <td>100000</td>\n",
       "      <td>0</td>\n",
       "      <td>0</td>\n",
       "      <td>0</td>\n",
       "      <td>1</td>\n",
       "      <td>1</td>\n",
       "      <td>0</td>\n",
       "      <td>2023-05-23 15:01:00.000</td>\n",
       "      <td>2023-05-23 15:01:00.000</td>\n",
       "    </tr>\n",
       "    <tr>\n",
       "      <th>1</th>\n",
       "      <td>002</td>\n",
       "      <td>WH0010</td>\n",
       "      <td>MR2558</td>\n",
       "      <td>N/A</td>\n",
       "      <td>1116000</td>\n",
       "      <td>0</td>\n",
       "      <td>0</td>\n",
       "      <td>0</td>\n",
       "      <td>1</td>\n",
       "      <td>1</td>\n",
       "      <td>0</td>\n",
       "      <td>2023-05-11 14:19:42.437</td>\n",
       "      <td>2023-05-11 14:32:46.137</td>\n",
       "    </tr>\n",
       "  </tbody>\n",
       "</table>\n",
       "</div>"
      ],
      "text/plain": [
       "    id   store employee customer  subtotal  tax  discount  total_payment   \n",
       "2  003  WH0012   MR2558      N/A    100000    0         0              0  \\\n",
       "1  002  WH0010   MR2558      N/A   1116000    0         0              0   \n",
       "\n",
       "   payment_method  shipping_method  status              created_at   \n",
       "2               1                1       0 2023-05-23 15:01:00.000  \\\n",
       "1               1                1       0 2023-05-11 14:19:42.437   \n",
       "\n",
       "               updated_at  \n",
       "2 2023-05-23 15:01:00.000  \n",
       "1 2023-05-11 14:32:46.137  "
      ]
     },
     "execution_count": 13,
     "metadata": {},
     "output_type": "execute_result"
    }
   ],
   "source": [
    "new_records"
   ]
  },
  {
   "cell_type": "code",
   "execution_count": 16,
   "metadata": {},
   "outputs": [
    {
     "name": "stderr",
     "output_type": "stream",
     "text": [
      "C:\\Users\\Admin\\AppData\\Local\\Temp\\ipykernel_4700\\3840364118.py:1: SettingWithCopyWarning: \n",
      "A value is trying to be set on a copy of a slice from a DataFrame.\n",
      "Try using .loc[row_indexer,col_indexer] = value instead\n",
      "\n",
      "See the caveats in the documentation: https://pandas.pydata.org/pandas-docs/stable/user_guide/indexing.html#returning-a-view-versus-a-copy\n",
      "  new_records['created_at']=datetime.now().strftime(\"%Y-%m-%d %H:%M:%S\")\n",
      "C:\\Users\\Admin\\AppData\\Local\\Temp\\ipykernel_4700\\3840364118.py:2: SettingWithCopyWarning: \n",
      "A value is trying to be set on a copy of a slice from a DataFrame.\n",
      "Try using .loc[row_indexer,col_indexer] = value instead\n",
      "\n",
      "See the caveats in the documentation: https://pandas.pydata.org/pandas-docs/stable/user_guide/indexing.html#returning-a-view-versus-a-copy\n",
      "  new_records['updated_at']=datetime.now().strftime(\"%Y-%m-%d %H:%M:%S\")\n"
     ]
    }
   ],
   "source": [
    "new_records['created_at']=datetime.now().strftime(\"%Y-%m-%d %H:%M:%S\")\n",
    "new_records['updated_at']=datetime.now().strftime(\"%Y-%m-%d %H:%M:%S\")"
   ]
  },
  {
   "cell_type": "code",
   "execution_count": 18,
   "metadata": {},
   "outputs": [
    {
     "data": {
      "text/plain": [
       "\"'2023-05-23 18:15:40'\""
      ]
     },
     "execution_count": 18,
     "metadata": {},
     "output_type": "execute_result"
    }
   ],
   "source": [
    "updated_at=f\"\"\"'{datetime.now().strftime(\"%Y-%m-%d %H:%M:%S\")}'\"\"\"\n",
    "updated_at"
   ]
  },
  {
   "cell_type": "code",
   "execution_count": null,
   "metadata": {},
   "outputs": [],
   "source": []
  },
  {
   "cell_type": "code",
   "execution_count": 17,
   "metadata": {},
   "outputs": [
    {
     "data": {
      "text/html": [
       "<div>\n",
       "<style scoped>\n",
       "    .dataframe tbody tr th:only-of-type {\n",
       "        vertical-align: middle;\n",
       "    }\n",
       "\n",
       "    .dataframe tbody tr th {\n",
       "        vertical-align: top;\n",
       "    }\n",
       "\n",
       "    .dataframe thead th {\n",
       "        text-align: right;\n",
       "    }\n",
       "</style>\n",
       "<table border=\"1\" class=\"dataframe\">\n",
       "  <thead>\n",
       "    <tr style=\"text-align: right;\">\n",
       "      <th></th>\n",
       "      <th>id</th>\n",
       "      <th>store</th>\n",
       "      <th>employee</th>\n",
       "      <th>customer</th>\n",
       "      <th>subtotal</th>\n",
       "      <th>tax</th>\n",
       "      <th>discount</th>\n",
       "      <th>total_payment</th>\n",
       "      <th>payment_method</th>\n",
       "      <th>shipping_method</th>\n",
       "      <th>status</th>\n",
       "      <th>created_at</th>\n",
       "      <th>updated_at</th>\n",
       "    </tr>\n",
       "  </thead>\n",
       "  <tbody>\n",
       "    <tr>\n",
       "      <th>2</th>\n",
       "      <td>003</td>\n",
       "      <td>WH0012</td>\n",
       "      <td>MR2558</td>\n",
       "      <td>N/A</td>\n",
       "      <td>100000</td>\n",
       "      <td>0</td>\n",
       "      <td>0</td>\n",
       "      <td>0</td>\n",
       "      <td>1</td>\n",
       "      <td>1</td>\n",
       "      <td>0</td>\n",
       "      <td>2023-05-23 18:11:53</td>\n",
       "      <td>2023-05-23 18:11:53</td>\n",
       "    </tr>\n",
       "    <tr>\n",
       "      <th>1</th>\n",
       "      <td>002</td>\n",
       "      <td>WH0010</td>\n",
       "      <td>MR2558</td>\n",
       "      <td>N/A</td>\n",
       "      <td>1116000</td>\n",
       "      <td>0</td>\n",
       "      <td>0</td>\n",
       "      <td>0</td>\n",
       "      <td>1</td>\n",
       "      <td>1</td>\n",
       "      <td>0</td>\n",
       "      <td>2023-05-23 18:11:53</td>\n",
       "      <td>2023-05-23 18:11:53</td>\n",
       "    </tr>\n",
       "  </tbody>\n",
       "</table>\n",
       "</div>"
      ],
      "text/plain": [
       "    id   store employee customer  subtotal  tax  discount  total_payment   \n",
       "2  003  WH0012   MR2558      N/A    100000    0         0              0  \\\n",
       "1  002  WH0010   MR2558      N/A   1116000    0         0              0   \n",
       "\n",
       "   payment_method  shipping_method  status           created_at   \n",
       "2               1                1       0  2023-05-23 18:11:53  \\\n",
       "1               1                1       0  2023-05-23 18:11:53   \n",
       "\n",
       "            updated_at  \n",
       "2  2023-05-23 18:11:53  \n",
       "1  2023-05-23 18:11:53  "
      ]
     },
     "execution_count": 17,
     "metadata": {},
     "output_type": "execute_result"
    }
   ],
   "source": [
    "new_records"
   ]
  },
  {
   "cell_type": "code",
   "execution_count": 72,
   "metadata": {},
   "outputs": [
    {
     "data": {
      "text/plain": [
       "1"
      ]
     },
     "execution_count": 72,
     "metadata": {},
     "output_type": "execute_result"
    }
   ],
   "source": [
    "# Records before load data\n",
    "query=f\"\"\"SELECT COUNT(*) FROM f_orders\"\"\"\n",
    "result=dwh_engine.execute(query)\n",
    "current_count = result.fetchone()[0]\n",
    "current_count"
   ]
  },
  {
   "cell_type": "code",
   "execution_count": 1,
   "metadata": {},
   "outputs": [
    {
     "ename": "NameError",
     "evalue": "name 'new_records' is not defined",
     "output_type": "error",
     "traceback": [
      "\u001b[1;31m---------------------------------------------------------------------------\u001b[0m",
      "\u001b[1;31mNameError\u001b[0m                                 Traceback (most recent call last)",
      "Cell \u001b[1;32mIn[1], line 2\u001b[0m\n\u001b[0;32m      1\u001b[0m \u001b[39m#Insert new record\u001b[39;00m\n\u001b[1;32m----> 2\u001b[0m new_records\u001b[39m.\u001b[39mto_sql(\u001b[39m\"\u001b[39m\u001b[39mf_orders\u001b[39m\u001b[39m\"\u001b[39m,con\u001b[39m=\u001b[39mdwh_engine,if_exists\u001b[39m=\u001b[39m\u001b[39m\"\u001b[39m\u001b[39mappend\u001b[39m\u001b[39m\"\u001b[39m,index\u001b[39m=\u001b[39m\u001b[39mFalse\u001b[39;00m)\n",
      "\u001b[1;31mNameError\u001b[0m: name 'new_records' is not defined"
     ]
    }
   ],
   "source": [
    "#Insert new record\n",
    "new_records.to_sql(\"f_orders\",con=dwh_engine,if_exists=\"append\",index=False)"
   ]
  },
  {
   "cell_type": "code",
   "execution_count": 74,
   "metadata": {},
   "outputs": [],
   "source": [
    "query=f\"\"\"SELECT COUNT(*) FROM f_orders\"\"\"\n",
    "result=dwh_engine.execute(query)\n",
    "inserted_count = result.fetchone()[0]\n",
    "inserted_count=inserted_count-old_count"
   ]
  },
  {
   "cell_type": "code",
   "execution_count": 75,
   "metadata": {},
   "outputs": [
    {
     "data": {
      "text/plain": [
       "2"
      ]
     },
     "execution_count": 75,
     "metadata": {},
     "output_type": "execute_result"
    }
   ],
   "source": [
    "inserted_count"
   ]
  },
  {
   "cell_type": "code",
   "execution_count": 76,
   "metadata": {},
   "outputs": [
    {
     "name": "stdout",
     "output_type": "stream",
     "text": [
      "Updated old records successfully !!!\n"
     ]
    }
   ],
   "source": [
    "updated_count=0\n",
    "if old_count>0:\n",
    "    for row in old_records.iterrows():\n",
    "        try:\n",
    "            id=f\"'{row[1]['id']}'\"\n",
    "            store=f\"'{row[1]['store']}'\"\n",
    "            employee=f\"'{row[1]['employee']}'\"\n",
    "            customer=f\"'{row[1]['customer']}'\"\n",
    "            subtotal=row[1]['subtotal']\n",
    "            tax=row[1]['tax']\n",
    "            discount=row[1]['discount']\n",
    "            total_payment=row[1]['total_payment']\n",
    "            payment_method=row[1]['payment_method']\n",
    "            shipping_method=row[1]['shipping_method']\n",
    "            status=row[1]['status']\n",
    "            updated_at=f\"'{runTime}'\"\n",
    "            query3=f\"\"\"UPDATE f_orders SET store={store}, employee={employee}, customer={customer},\n",
    "                                           subtotal={subtotal}, tax={tax}, discount={discount},\n",
    "                                           total_payment={total_payment}, payment_method={payment_method},\n",
    "                                           shipping_method={shipping_method}, status={status}, updated_at={updated_at}\n",
    "                    WHERE id={id}\"\"\"\n",
    "            dwh_engine.execute(query3)\n",
    "            updated_count+=1\n",
    "        except Exception as e:\n",
    "            print(e)\n",
    "    print(\"Updated old records successfully !!!\")"
   ]
  },
  {
   "cell_type": "code",
   "execution_count": 77,
   "metadata": {},
   "outputs": [
    {
     "data": {
      "text/plain": [
       "1"
      ]
     },
     "execution_count": 77,
     "metadata": {},
     "output_type": "execute_result"
    }
   ],
   "source": [
    "updated_count"
   ]
  },
  {
   "cell_type": "code",
   "execution_count": 78,
   "metadata": {},
   "outputs": [
    {
     "data": {
      "text/plain": [
       "3"
      ]
     },
     "execution_count": 78,
     "metadata": {},
     "output_type": "execute_result"
    }
   ],
   "source": [
    "loaded_count=inserted_count+updated_count\n",
    "loaded_count"
   ]
  },
  {
   "cell_type": "code",
   "execution_count": null,
   "metadata": {},
   "outputs": [],
   "source": []
  },
  {
   "cell_type": "code",
   "execution_count": null,
   "metadata": {},
   "outputs": [],
   "source": []
  }
 ],
 "metadata": {
  "kernelspec": {
   "display_name": "Python 3",
   "language": "python",
   "name": "python3"
  },
  "language_info": {
   "codemirror_mode": {
    "name": "ipython",
    "version": 3
   },
   "file_extension": ".py",
   "mimetype": "text/x-python",
   "name": "python",
   "nbconvert_exporter": "python",
   "pygments_lexer": "ipython3",
   "version": "3.8.10"
  },
  "orig_nbformat": 4
 },
 "nbformat": 4,
 "nbformat_minor": 2
}
