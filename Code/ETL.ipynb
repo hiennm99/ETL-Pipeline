{
 "cells": [
  {
   "cell_type": "code",
   "execution_count": 2,
   "metadata": {},
   "outputs": [],
   "source": [
    "import pandas as pd\n",
    "from configparser import ConfigParser\n",
    "from sqlalchemy import create_engine\n",
    "from pyspark.sql import SparkSession\n",
    "from datetime import datetime"
   ]
  },
  {
   "cell_type": "code",
   "execution_count": 2,
   "metadata": {},
   "outputs": [
    {
     "data": {
      "text/plain": [
       "['config.ini']"
      ]
     },
     "execution_count": 2,
     "metadata": {},
     "output_type": "execute_result"
    }
   ],
   "source": [
    "config=ConfigParser()\n",
    "config.read('config.ini')"
   ]
  },
  {
   "cell_type": "code",
   "execution_count": 3,
   "metadata": {},
   "outputs": [],
   "source": [
    "db_host=config['DB']['hostname']\n",
    "db_user=config['DB']['user']\n",
    "db_pwd=config['DB']['password']\n",
    "db_driver=config['DB']['driver']\n",
    "db_database=config['DB']['database']\n",
    "\n",
    "db_url=f'{db_driver}://{db_user}:{db_pwd}@{db_host}/{db_database}?driver=ODBC+Driver+17+for+SQL+Server'\n",
    "db_engine=create_engine(db_url)"
   ]
  },
  {
   "cell_type": "code",
   "execution_count": 4,
   "metadata": {},
   "outputs": [],
   "source": [
    "dwh_host=config['DWH']['hostname']\n",
    "dwh_port=config['DWH']['port']\n",
    "dwh_user=config['DWH']['user']\n",
    "dwh_pwd=config['DWH']['password']\n",
    "dwh_driver=config['DWH']['driver']\n",
    "dwh_database=config['DWH']['database']\n",
    "\n",
    "dwh_url=f'{dwh_driver}://{dwh_user}:{dwh_pwd}@{dwh_host}:{dwh_port}/{dwh_database}'\n",
    "dwh_engine=create_engine(dwh_url)"
   ]
  },
  {
   "cell_type": "code",
   "execution_count": 5,
   "metadata": {},
   "outputs": [
    {
     "data": {
      "text/plain": [
       "'2023-05-05 23:59:59'"
      ]
     },
     "execution_count": 5,
     "metadata": {},
     "output_type": "execute_result"
    }
   ],
   "source": [
    "runTime=datetime.now().strftime(\"%Y-%m-%d 23:59:59\")\n",
    "runTime"
   ]
  },
  {
   "cell_type": "code",
   "execution_count": 16,
   "metadata": {},
   "outputs": [
    {
     "data": {
      "text/html": [
       "<div>\n",
       "<style scoped>\n",
       "    .dataframe tbody tr th:only-of-type {\n",
       "        vertical-align: middle;\n",
       "    }\n",
       "\n",
       "    .dataframe tbody tr th {\n",
       "        vertical-align: top;\n",
       "    }\n",
       "\n",
       "    .dataframe thead th {\n",
       "        text-align: right;\n",
       "    }\n",
       "</style>\n",
       "<table border=\"1\" class=\"dataframe\">\n",
       "  <thead>\n",
       "    <tr style=\"text-align: right;\">\n",
       "      <th></th>\n",
       "      <th>last_update</th>\n",
       "    </tr>\n",
       "  </thead>\n",
       "  <tbody>\n",
       "    <tr>\n",
       "      <th>0</th>\n",
       "      <td>2023-05-05</td>\n",
       "    </tr>\n",
       "    <tr>\n",
       "      <th>1</th>\n",
       "      <td>2023-05-07</td>\n",
       "    </tr>\n",
       "    <tr>\n",
       "      <th>2</th>\n",
       "      <td>2023-05-05</td>\n",
       "    </tr>\n",
       "    <tr>\n",
       "      <th>3</th>\n",
       "      <td>2023-05-05</td>\n",
       "    </tr>\n",
       "  </tbody>\n",
       "</table>\n",
       "</div>"
      ],
      "text/plain": [
       "  last_update\n",
       "0  2023-05-05\n",
       "1  2023-05-07\n",
       "2  2023-05-05\n",
       "3  2023-05-05"
      ]
     },
     "execution_count": 16,
     "metadata": {},
     "output_type": "execute_result"
    }
   ],
   "source": [
    "# Get the last_update record in datawarehouse\n",
    "query1=f\"\"\"SELECT last_update FROM public.orders\"\"\"\n",
    "dwh_data=pd.read_sql_query(query1,con=dwh_engine)\n",
    "dwh_data"
   ]
  },
  {
   "cell_type": "code",
   "execution_count": 21,
   "metadata": {},
   "outputs": [
    {
     "data": {
      "text/plain": [
       "'2023-05-07 23:59:59'"
      ]
     },
     "execution_count": 21,
     "metadata": {},
     "output_type": "execute_result"
    }
   ],
   "source": [
    "last_update_dwh=dwh_data['last_update'].max().strftime(\"%Y-%m-%d 23:59:59\")\n",
    "last_update_dwh"
   ]
  },
  {
   "cell_type": "code",
   "execution_count": 5,
   "metadata": {},
   "outputs": [],
   "source": [
    "dfx=pd.read_csv('2022-T3-4.txt',on_bad_lines='skip')"
   ]
  },
  {
   "cell_type": "code",
   "execution_count": 8,
   "metadata": {},
   "outputs": [
    {
     "data": {
      "text/html": [
       "<div>\n",
       "<style scoped>\n",
       "    .dataframe tbody tr th:only-of-type {\n",
       "        vertical-align: middle;\n",
       "    }\n",
       "\n",
       "    .dataframe tbody tr th {\n",
       "        vertical-align: top;\n",
       "    }\n",
       "\n",
       "    .dataframe thead th {\n",
       "        text-align: right;\n",
       "    }\n",
       "</style>\n",
       "<table border=\"1\" class=\"dataframe\">\n",
       "  <thead>\n",
       "    <tr style=\"text-align: right;\">\n",
       "      <th></th>\n",
       "      <th>Danh mục thuốc Tân dược trúng thầu T3-T4 năm 2022 theo hình thức đấu thầu rộng rãi tại các địa phương đề nghị đăng tải</th>\n",
       "    </tr>\n",
       "  </thead>\n",
       "  <tbody>\n",
       "    <tr>\n",
       "      <th>0</th>\n",
       "      <td>STT</td>\n",
       "    </tr>\n",
       "    <tr>\n",
       "      <th>1</th>\n",
       "      <td>Tên hoạt chất</td>\n",
       "    </tr>\n",
       "    <tr>\n",
       "      <th>2</th>\n",
       "      <td>Đường</td>\n",
       "    </tr>\n",
       "    <tr>\n",
       "      <th>3</th>\n",
       "      <td>dạng bào</td>\n",
       "    </tr>\n",
       "    <tr>\n",
       "      <th>4</th>\n",
       "      <td>chế</td>\n",
       "    </tr>\n",
       "    <tr>\n",
       "      <th>...</th>\n",
       "      <td>...</td>\n",
       "    </tr>\n",
       "    <tr>\n",
       "      <th>199347</th>\n",
       "      <td>BV đa khoa Tỉnh</td>\n",
       "    </tr>\n",
       "    <tr>\n",
       "      <th>199348</th>\n",
       "      <td>Khánh Hòa</td>\n",
       "    </tr>\n",
       "    <tr>\n",
       "      <th>199349</th>\n",
       "      <td>709/QĐ-BVĐKT</td>\n",
       "    </tr>\n",
       "    <tr>\n",
       "      <th>199350</th>\n",
       "      <td>27/04/2022</td>\n",
       "    </tr>\n",
       "    <tr>\n",
       "      <th>199351</th>\n",
       "      <td></td>\n",
       "    </tr>\n",
       "  </tbody>\n",
       "</table>\n",
       "<p>199352 rows × 1 columns</p>\n",
       "</div>"
      ],
      "text/plain": [
       "       Danh mục thuốc Tân dược trúng thầu T3-T4 năm 2022 theo hình thức đấu thầu rộng rãi tại các địa phương đề nghị đăng tải \n",
       "0                                                     STT                                                                     \n",
       "1                                          Tên hoạt chất                                                                      \n",
       "2                                                  Đường                                                                      \n",
       "3                                               dạng bào                                                                      \n",
       "4                                                     chế                                                                     \n",
       "...                                                   ...                                                                     \n",
       "199347                                    BV đa khoa Tỉnh                                                                     \n",
       "199348                                          Khánh Hòa                                                                     \n",
       "199349                                       709/QĐ-BVĐKT                                                                     \n",
       "199350                                         27/04/2022                                                                     \n",
       "199351                                                  \n",
       "                                                                     \n",
       "\n",
       "[199352 rows x 1 columns]"
      ]
     },
     "execution_count": 8,
     "metadata": {},
     "output_type": "execute_result"
    }
   ],
   "source": [
    "dfx"
   ]
  },
  {
   "cell_type": "code",
   "execution_count": 44,
   "metadata": {},
   "outputs": [
    {
     "data": {
      "text/html": [
       "<div>\n",
       "<style scoped>\n",
       "    .dataframe tbody tr th:only-of-type {\n",
       "        vertical-align: middle;\n",
       "    }\n",
       "\n",
       "    .dataframe tbody tr th {\n",
       "        vertical-align: top;\n",
       "    }\n",
       "\n",
       "    .dataframe thead th {\n",
       "        text-align: right;\n",
       "    }\n",
       "</style>\n",
       "<table border=\"1\" class=\"dataframe\">\n",
       "  <thead>\n",
       "    <tr style=\"text-align: right;\">\n",
       "      <th></th>\n",
       "      <th>__$start_lsn</th>\n",
       "      <th>__$end_lsn</th>\n",
       "      <th>__$seqval</th>\n",
       "      <th>__$operation</th>\n",
       "      <th>__$update_mask</th>\n",
       "      <th>id</th>\n",
       "      <th>orderId</th>\n",
       "      <th>storeId</th>\n",
       "      <th>empId</th>\n",
       "      <th>cusId</th>\n",
       "      <th>subtotal</th>\n",
       "      <th>tax</th>\n",
       "      <th>discount</th>\n",
       "      <th>totalPayment</th>\n",
       "      <th>paymentMethod</th>\n",
       "      <th>shippingMethod</th>\n",
       "      <th>orderStatus</th>\n",
       "      <th>createdAt</th>\n",
       "      <th>updatedAt</th>\n",
       "      <th>__$command_id</th>\n",
       "    </tr>\n",
       "  </thead>\n",
       "  <tbody>\n",
       "  </tbody>\n",
       "</table>\n",
       "</div>"
      ],
      "text/plain": [
       "Empty DataFrame\n",
       "Columns: [__$start_lsn, __$end_lsn, __$seqval, __$operation, __$update_mask, id, orderId, storeId, empId, cusId, subtotal, tax, discount, totalPayment, paymentMethod, shippingMethod, orderStatus, createdAt, updatedAt, __$command_id]\n",
       "Index: []"
      ]
     },
     "execution_count": 44,
     "metadata": {},
     "output_type": "execute_result"
    }
   ],
   "source": [
    "# Get all records which have updatedAt > last_update\n",
    "query2=f\"\"\"SELECT * FROM cdc.sales_orders_CT WHERE updatedAt <'{last_update_dwh}'\"\"\"\n",
    "df_source=pd.read_sql_query(query2,con=db_engine)\n",
    "df_source"
   ]
  },
  {
   "cell_type": "code",
   "execution_count": 28,
   "metadata": {},
   "outputs": [],
   "source": [
    "df_source=df_source.drop(columns=['__$start_lsn','__$end_lsn','__$seqval','__$update_mask','__$command_id','createdAt'])\n",
    "df_source=df_source.rename(columns={\n",
    "    '__$operation':'operation',\n",
    "    'orderId':'order_id',\n",
    "    'storeId':'store_id',\n",
    "    'empId':'emp_id',\n",
    "    'cusId':'cus_id',\n",
    "    'totalPayment':'total_payment',\n",
    "    'paymentMethod':'payment_method',\n",
    "    'shippingMethod':'shipping_method',\n",
    "    'orderStatus':'order_status',\n",
    "    'updatedAt':'last_update',\n",
    "    }\n",
    ")\n"
   ]
  },
  {
   "cell_type": "code",
   "execution_count": 29,
   "metadata": {},
   "outputs": [
    {
     "data": {
      "text/html": [
       "<div>\n",
       "<style scoped>\n",
       "    .dataframe tbody tr th:only-of-type {\n",
       "        vertical-align: middle;\n",
       "    }\n",
       "\n",
       "    .dataframe tbody tr th {\n",
       "        vertical-align: top;\n",
       "    }\n",
       "\n",
       "    .dataframe thead th {\n",
       "        text-align: right;\n",
       "    }\n",
       "</style>\n",
       "<table border=\"1\" class=\"dataframe\">\n",
       "  <thead>\n",
       "    <tr style=\"text-align: right;\">\n",
       "      <th></th>\n",
       "      <th>operation</th>\n",
       "      <th>id</th>\n",
       "      <th>order_id</th>\n",
       "      <th>store_id</th>\n",
       "      <th>emp_id</th>\n",
       "      <th>cus_id</th>\n",
       "      <th>subtotal</th>\n",
       "      <th>tax</th>\n",
       "      <th>discount</th>\n",
       "      <th>total_payment</th>\n",
       "      <th>payment_method</th>\n",
       "      <th>shipping_method</th>\n",
       "      <th>order_status</th>\n",
       "      <th>last_update</th>\n",
       "    </tr>\n",
       "  </thead>\n",
       "  <tbody>\n",
       "    <tr>\n",
       "      <th>0</th>\n",
       "      <td>2</td>\n",
       "      <td>1</td>\n",
       "      <td>OD0001</td>\n",
       "      <td>WH0010</td>\n",
       "      <td>MR2558</td>\n",
       "      <td>None</td>\n",
       "      <td>0</td>\n",
       "      <td>0</td>\n",
       "      <td>0</td>\n",
       "      <td>0</td>\n",
       "      <td>1</td>\n",
       "      <td>1</td>\n",
       "      <td>0</td>\n",
       "      <td>2023-05-05 01:59:18.323</td>\n",
       "    </tr>\n",
       "    <tr>\n",
       "      <th>1</th>\n",
       "      <td>2</td>\n",
       "      <td>2</td>\n",
       "      <td>OD0002</td>\n",
       "      <td>WH0012</td>\n",
       "      <td>MR2559</td>\n",
       "      <td>None</td>\n",
       "      <td>0</td>\n",
       "      <td>0</td>\n",
       "      <td>0</td>\n",
       "      <td>0</td>\n",
       "      <td>1</td>\n",
       "      <td>1</td>\n",
       "      <td>0</td>\n",
       "      <td>2023-05-05 02:00:22.097</td>\n",
       "    </tr>\n",
       "    <tr>\n",
       "      <th>2</th>\n",
       "      <td>2</td>\n",
       "      <td>3</td>\n",
       "      <td>OD0003</td>\n",
       "      <td>WH0012</td>\n",
       "      <td>MR2559</td>\n",
       "      <td>None</td>\n",
       "      <td>0</td>\n",
       "      <td>0</td>\n",
       "      <td>0</td>\n",
       "      <td>0</td>\n",
       "      <td>1</td>\n",
       "      <td>1</td>\n",
       "      <td>0</td>\n",
       "      <td>2023-05-05 02:00:25.907</td>\n",
       "    </tr>\n",
       "    <tr>\n",
       "      <th>3</th>\n",
       "      <td>3</td>\n",
       "      <td>1</td>\n",
       "      <td>OD0001</td>\n",
       "      <td>WH0010</td>\n",
       "      <td>MR2558</td>\n",
       "      <td>None</td>\n",
       "      <td>0</td>\n",
       "      <td>0</td>\n",
       "      <td>0</td>\n",
       "      <td>0</td>\n",
       "      <td>1</td>\n",
       "      <td>1</td>\n",
       "      <td>0</td>\n",
       "      <td>2023-05-05 01:59:18.323</td>\n",
       "    </tr>\n",
       "    <tr>\n",
       "      <th>4</th>\n",
       "      <td>4</td>\n",
       "      <td>1</td>\n",
       "      <td>OD0001</td>\n",
       "      <td>WH0010</td>\n",
       "      <td>MR2558</td>\n",
       "      <td>None</td>\n",
       "      <td>0</td>\n",
       "      <td>0</td>\n",
       "      <td>0</td>\n",
       "      <td>100</td>\n",
       "      <td>1</td>\n",
       "      <td>1</td>\n",
       "      <td>0</td>\n",
       "      <td>2023-05-05 02:04:25.580</td>\n",
       "    </tr>\n",
       "  </tbody>\n",
       "</table>\n",
       "</div>"
      ],
      "text/plain": [
       "   operation  id order_id store_id  emp_id cus_id  subtotal  tax  discount  \\\n",
       "0          2   1   OD0001   WH0010  MR2558   None         0    0         0   \n",
       "1          2   2   OD0002   WH0012  MR2559   None         0    0         0   \n",
       "2          2   3   OD0003   WH0012  MR2559   None         0    0         0   \n",
       "3          3   1   OD0001   WH0010  MR2558   None         0    0         0   \n",
       "4          4   1   OD0001   WH0010  MR2558   None         0    0         0   \n",
       "\n",
       "   total_payment  payment_method  shipping_method  order_status  \\\n",
       "0              0               1                1             0   \n",
       "1              0               1                1             0   \n",
       "2              0               1                1             0   \n",
       "3              0               1                1             0   \n",
       "4            100               1                1             0   \n",
       "\n",
       "              last_update  \n",
       "0 2023-05-05 01:59:18.323  \n",
       "1 2023-05-05 02:00:22.097  \n",
       "2 2023-05-05 02:00:25.907  \n",
       "3 2023-05-05 01:59:18.323  \n",
       "4 2023-05-05 02:04:25.580  "
      ]
     },
     "execution_count": 29,
     "metadata": {},
     "output_type": "execute_result"
    }
   ],
   "source": [
    "df_source"
   ]
  },
  {
   "cell_type": "code",
   "execution_count": 30,
   "metadata": {},
   "outputs": [],
   "source": [
    "df_new=df_source.loc[df_source['operation']==2]"
   ]
  },
  {
   "cell_type": "code",
   "execution_count": null,
   "metadata": {},
   "outputs": [],
   "source": [
    "df_new=df_new.drop(columns=['operation'])\n",
    "df_new"
   ]
  },
  {
   "cell_type": "code",
   "execution_count": 15,
   "metadata": {},
   "outputs": [
    {
     "data": {
      "text/plain": [
       "3"
      ]
     },
     "execution_count": 15,
     "metadata": {},
     "output_type": "execute_result"
    }
   ],
   "source": [
    "df_new.to_sql('orders',con=dwh_engine,if_exists='append',index=False)"
   ]
  },
  {
   "cell_type": "code",
   "execution_count": 32,
   "metadata": {},
   "outputs": [],
   "source": [
    "df_update=df_source.loc[df_source['operation']==4]\n",
    "df_update=df_update.drop(columns=['operation'])"
   ]
  },
  {
   "cell_type": "code",
   "execution_count": 33,
   "metadata": {},
   "outputs": [
    {
     "data": {
      "text/html": [
       "<div>\n",
       "<style scoped>\n",
       "    .dataframe tbody tr th:only-of-type {\n",
       "        vertical-align: middle;\n",
       "    }\n",
       "\n",
       "    .dataframe tbody tr th {\n",
       "        vertical-align: top;\n",
       "    }\n",
       "\n",
       "    .dataframe thead th {\n",
       "        text-align: right;\n",
       "    }\n",
       "</style>\n",
       "<table border=\"1\" class=\"dataframe\">\n",
       "  <thead>\n",
       "    <tr style=\"text-align: right;\">\n",
       "      <th></th>\n",
       "      <th>operation</th>\n",
       "      <th>id</th>\n",
       "      <th>order_id</th>\n",
       "      <th>store_id</th>\n",
       "      <th>emp_id</th>\n",
       "      <th>cus_id</th>\n",
       "      <th>subtotal</th>\n",
       "      <th>tax</th>\n",
       "      <th>discount</th>\n",
       "      <th>total_payment</th>\n",
       "      <th>payment_method</th>\n",
       "      <th>shipping_method</th>\n",
       "      <th>order_status</th>\n",
       "      <th>last_update</th>\n",
       "    </tr>\n",
       "  </thead>\n",
       "  <tbody>\n",
       "    <tr>\n",
       "      <th>4</th>\n",
       "      <td>4</td>\n",
       "      <td>1</td>\n",
       "      <td>OD0001</td>\n",
       "      <td>WH0010</td>\n",
       "      <td>MR2558</td>\n",
       "      <td>None</td>\n",
       "      <td>0</td>\n",
       "      <td>0</td>\n",
       "      <td>0</td>\n",
       "      <td>100</td>\n",
       "      <td>1</td>\n",
       "      <td>1</td>\n",
       "      <td>0</td>\n",
       "      <td>2023-05-05 02:04:25.580</td>\n",
       "    </tr>\n",
       "  </tbody>\n",
       "</table>\n",
       "</div>"
      ],
      "text/plain": [
       "   operation  id order_id store_id  emp_id cus_id  subtotal  tax  discount  \\\n",
       "4          4   1   OD0001   WH0010  MR2558   None         0    0         0   \n",
       "\n",
       "   total_payment  payment_method  shipping_method  order_status  \\\n",
       "4            100               1                1             0   \n",
       "\n",
       "              last_update  \n",
       "4 2023-05-05 02:04:25.580  "
      ]
     },
     "execution_count": 33,
     "metadata": {},
     "output_type": "execute_result"
    }
   ],
   "source": [
    "df_update"
   ]
  },
  {
   "cell_type": "code",
   "execution_count": 34,
   "metadata": {},
   "outputs": [],
   "source": [
    "\n",
    "for row in df_update.iterrows():\n",
    "    query3=f\"\"\"UPDATE orders SET store_id='{row[1]['store_id']}',emp_id='{row[1]['emp_id']}',\n",
    "               cus_id='{row[1]['cus_id']}',subtotal={row[1]['subtotal']},tax={row[1]['tax']},\n",
    "               discount={row[1]['discount']},total_payment={row[1]['total_payment']},payment_method={row[1]['payment_method']},\n",
    "               shipping_method={row[1]['shipping_method']},order_status={row[1]['order_status']},last_update='{row[1]['last_update']}'\n",
    "    WHERE order_id='{row[1]['order_id']}'\"\"\"\n",
    "    dwh_engine.execute(query3)\n"
   ]
  }
 ],
 "metadata": {
  "kernelspec": {
   "display_name": "Python 3",
   "language": "python",
   "name": "python3"
  },
  "language_info": {
   "codemirror_mode": {
    "name": "ipython",
    "version": 3
   },
   "file_extension": ".py",
   "mimetype": "text/x-python",
   "name": "python",
   "nbconvert_exporter": "python",
   "pygments_lexer": "ipython3",
   "version": "3.8.10"
  },
  "orig_nbformat": 4
 },
 "nbformat": 4,
 "nbformat_minor": 2
}
